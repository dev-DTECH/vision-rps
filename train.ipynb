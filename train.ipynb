{
 "cells": [
  {
   "cell_type": "code",
   "execution_count": 3,
   "metadata": {
    "collapsed": true
   },
   "outputs": [
    {
     "name": "stderr",
     "output_type": "stream",
     "text": [
      "2023-02-17 18:09:26.385618: I tensorflow/core/platform/cpu_feature_guard.cc:193] This TensorFlow binary is optimized with oneAPI Deep Neural Network Library (oneDNN) to use the following CPU instructions in performance-critical operations:  AVX2 AVX512F AVX512_VNNI FMA\n",
      "To enable them in other operations, rebuild TensorFlow with the appropriate compiler flags.\n",
      "2023-02-17 18:09:26.490635: I tensorflow/core/util/port.cc:104] oneDNN custom operations are on. You may see slightly different numerical results due to floating-point round-off errors from different computation orders. To turn them off, set the environment variable `TF_ENABLE_ONEDNN_OPTS=0`.\n",
      "2023-02-17 18:09:26.493175: W tensorflow/compiler/xla/stream_executor/platform/default/dso_loader.cc:64] Could not load dynamic library 'libcudart.so.11.0'; dlerror: libcudart.so.11.0: cannot open shared object file: No such file or directory\n",
      "2023-02-17 18:09:26.493185: I tensorflow/compiler/xla/stream_executor/cuda/cudart_stub.cc:29] Ignore above cudart dlerror if you do not have a GPU set up on your machine.\n",
      "2023-02-17 18:09:27.351068: W tensorflow/compiler/xla/stream_executor/platform/default/dso_loader.cc:64] Could not load dynamic library 'libnvinfer.so.7'; dlerror: libnvinfer.so.7: cannot open shared object file: No such file or directory\n",
      "2023-02-17 18:09:27.351232: W tensorflow/compiler/xla/stream_executor/platform/default/dso_loader.cc:64] Could not load dynamic library 'libnvinfer_plugin.so.7'; dlerror: libnvinfer_plugin.so.7: cannot open shared object file: No such file or directory\n",
      "2023-02-17 18:09:27.351246: W tensorflow/compiler/tf2tensorrt/utils/py_utils.cc:38] TF-TRT Warning: Cannot dlopen some TensorRT libraries. If you would like to use Nvidia GPU with TensorRT, please make sure the missing libraries mentioned above are installed properly.\n"
     ]
    }
   ],
   "source": [
    "import tensorflow as tf\n",
    "import numpy as np\n",
    "from sklearn.model_selection import train_test_split\n",
    "import matplotlib.pyplot as plt\n",
    "from sklearn import svm, datasets\n",
    "from sklearn.model_selection import train_test_split\n",
    "from sklearn.metrics import confusion_matrix\n",
    "from sklearn.utils.multiclass import unique_labels"
   ]
  },
  {
   "cell_type": "code",
   "execution_count": 2,
   "outputs": [],
   "source": [
    "def plot_confusion_matrix(y_true, y_pred, classes,\n",
    "                          normalize=False,\n",
    "                          title=None,\n",
    "                          cmap=plt.cm.Blues):\n",
    "    \"\"\"\n",
    "    This function prints and plots the confusion matrix.\n",
    "    Normalization can be applied by setting `normalize=True`.\n",
    "    \"\"\"\n",
    "    if not title:\n",
    "        if normalize:\n",
    "            title = 'Normalized confusion matrix'\n",
    "        else:\n",
    "            title = 'Confusion matrix, without normalization'\n",
    "\n",
    "    # Compute confusion matrix\n",
    "    cm = confusion_matrix(y_true, y_pred)\n",
    "    # Only use the labels that appear in the data\n",
    "    classes = classes[unique_labels(y_true, y_pred)]\n",
    "    if normalize:\n",
    "        cm = cm.astype('float') / cm.sum(axis=1)[:, np.newaxis]\n",
    "        print(\"Normalized confusion matrix\")\n",
    "    else:\n",
    "        print('Confusion matrix, without normalization')\n",
    "\n",
    "    print(cm)\n",
    "\n",
    "    fig, ax = plt.subplots()\n",
    "    im = ax.imshow(cm, interpolation='nearest', cmap=cmap)\n",
    "    ax.figure.colorbar(im, ax=ax)\n",
    "    # We want to show all ticks...\n",
    "    ax.set(xticks=np.arange(cm.shape[1]),\n",
    "           yticks=np.arange(cm.shape[0]),\n",
    "           # ... and label them with the respective list entries\n",
    "           xticklabels=classes, yticklabels=classes,\n",
    "           title=title,\n",
    "           ylabel='True label',\n",
    "           xlabel='Predicted label')\n",
    "\n",
    "    # Rotate the tick labels and set their alignment.\n",
    "    plt.setp(ax.get_xticklabels(), rotation=45, ha=\"right\",\n",
    "             rotation_mode=\"anchor\")\n",
    "\n",
    "    # Loop over data dimensions and create text annotations.\n",
    "    fmt = '.2f' if normalize else 'd'\n",
    "    thresh = cm.max() / 2.\n",
    "    for i in range(cm.shape[0]):\n",
    "        for j in range(cm.shape[1]):\n",
    "            ax.text(j, i, format(cm[i, j], fmt),\n",
    "                    ha=\"center\", va=\"center\",\n",
    "                    color=\"white\" if cm[i, j] > thresh else \"black\")\n",
    "    fig.tight_layout()\n",
    "    # plt.xlim(-0.5, len(np.unique(y))-0.5)\n",
    "    # plt.ylim(len(np.unique(y))-0.5, -0.5)\n",
    "    return ax"
   ],
   "metadata": {
    "collapsed": false
   }
  },
  {
   "cell_type": "code",
   "execution_count": 3,
   "outputs": [
    {
     "name": "stdout",
     "output_type": "stream",
     "text": [
      "(1329, 42) (443, 42)\n"
     ]
    }
   ],
   "source": [
    "# hand_ds = tf.data.experimental.make_csv_dataset(\n",
    "#     'data.csv',\n",
    "#     batch_size=5, # Artificially small to make examples easier to show.\n",
    "#     label_name='label',\n",
    "#     num_epochs=1,\n",
    "#     ignore_errors=True,)\n",
    "data_x = np.loadtxt(\"data_manual.csv\", delimiter=\",\", dtype=float, usecols=list(range(1, (21 * 2) + 1)))\n",
    "data_y = np.loadtxt(\"data_manual.csv\", delimiter=\",\", dtype=float, usecols=(0))\n",
    "data_y=data_y.tolist()\n",
    "for i,d in enumerate(data_y):\n",
    "    ar=[0]*3\n",
    "    # print(int(d))\n",
    "    ar[int(d)]=1\n",
    "    data_y[i]=ar.copy()\n",
    "data_y=np.array(data_y)\n",
    "train_x, test_x, train_y, test_y = train_test_split(data_x, data_y, train_size=0.75, random_state=69)\n",
    "\n",
    "print(train_x.shape,test_x.shape)"
   ],
   "metadata": {
    "collapsed": false
   }
  },
  {
   "cell_type": "code",
   "execution_count": 4,
   "outputs": [
    {
     "name": "stdout",
     "output_type": "stream",
     "text": [
      "Model: \"sequential\"\n",
      "_________________________________________________________________\n",
      " Layer (type)                Output Shape              Param #   \n",
      "=================================================================\n",
      " dense (Dense)               (None, 16)                688       \n",
      "                                                                 \n",
      " dense_1 (Dense)             (None, 8)                 136       \n",
      "                                                                 \n",
      " dense_2 (Dense)             (None, 3)                 27        \n",
      "                                                                 \n",
      "=================================================================\n",
      "Total params: 851\n",
      "Trainable params: 851\n",
      "Non-trainable params: 0\n",
      "_________________________________________________________________\n"
     ]
    },
    {
     "name": "stderr",
     "output_type": "stream",
     "text": [
      "2023-02-17 10:23:45.158831: E tensorflow/compiler/xla/stream_executor/cuda/cuda_driver.cc:267] failed call to cuInit: CUDA_ERROR_NO_DEVICE: no CUDA-capable device is detected\n",
      "2023-02-17 10:23:45.158886: I tensorflow/compiler/xla/stream_executor/cuda/cuda_diagnostics.cc:156] kernel driver does not appear to be running on this host (dtech-pc): /proc/driver/nvidia/version does not exist\n",
      "2023-02-17 10:23:45.160283: I tensorflow/core/platform/cpu_feature_guard.cc:193] This TensorFlow binary is optimized with oneAPI Deep Neural Network Library (oneDNN) to use the following CPU instructions in performance-critical operations:  AVX2 AVX512F AVX512_VNNI FMA\n",
      "To enable them in other operations, rebuild TensorFlow with the appropriate compiler flags.\n"
     ]
    }
   ],
   "source": [
    "model=tf.keras.models.Sequential([\n",
    "    tf.keras.layers.Input((42,)),\n",
    "    tf.keras.layers.Dense(16,activation='relu'),\n",
    "    # tf.keras.layers.Dropout(0.2),\n",
    "    tf.keras.layers.Dense(8,activation='relu'),\n",
    "    # tf.keras.layers.Dropout(0.2),\n",
    "    tf.keras.layers.Dense(3,activation='softmax')\n",
    "])\n",
    "model.compile(optimizer=tf.keras.optimizers.Adam(learning_rate=1e-3),\n",
    "              loss=tf.keras.losses.BinaryCrossentropy())\n",
    "model.summary()"
   ],
   "metadata": {
    "collapsed": false
   }
  },
  {
   "cell_type": "code",
   "execution_count": 5,
   "outputs": [
    {
     "name": "stdout",
     "output_type": "stream",
     "text": [
      "Epoch 1/50\n",
      "266/266 [==============================] - 1s 2ms/step - loss: 0.5842\n",
      "Epoch 2/50\n",
      "266/266 [==============================] - 1s 3ms/step - loss: 0.3842\n",
      "Epoch 3/50\n",
      "266/266 [==============================] - 1s 3ms/step - loss: 0.2132\n",
      "Epoch 4/50\n",
      "266/266 [==============================] - 1s 2ms/step - loss: 0.1173\n",
      "Epoch 5/50\n",
      "266/266 [==============================] - 0s 2ms/step - loss: 0.0689\n",
      "Epoch 6/50\n",
      "266/266 [==============================] - 1s 2ms/step - loss: 0.0464\n",
      "Epoch 7/50\n",
      "266/266 [==============================] - 1s 2ms/step - loss: 0.0343\n",
      "Epoch 8/50\n",
      "266/266 [==============================] - 1s 2ms/step - loss: 0.0287\n",
      "Epoch 9/50\n",
      "266/266 [==============================] - 0s 2ms/step - loss: 0.0236\n",
      "Epoch 10/50\n",
      "266/266 [==============================] - 0s 2ms/step - loss: 0.0223\n",
      "Epoch 11/50\n",
      "266/266 [==============================] - 0s 2ms/step - loss: 0.0194\n",
      "Epoch 12/50\n",
      "266/266 [==============================] - 0s 2ms/step - loss: 0.0191\n",
      "Epoch 13/50\n",
      "266/266 [==============================] - 0s 2ms/step - loss: 0.0170\n",
      "Epoch 14/50\n",
      "266/266 [==============================] - 0s 2ms/step - loss: 0.0157\n",
      "Epoch 15/50\n",
      "266/266 [==============================] - 1s 2ms/step - loss: 0.0150\n",
      "Epoch 16/50\n",
      "266/266 [==============================] - 0s 2ms/step - loss: 0.0151\n",
      "Epoch 17/50\n",
      "266/266 [==============================] - 0s 2ms/step - loss: 0.0141\n",
      "Epoch 18/50\n",
      "266/266 [==============================] - 0s 2ms/step - loss: 0.0135\n",
      "Epoch 19/50\n",
      "266/266 [==============================] - 0s 2ms/step - loss: 0.0131\n",
      "Epoch 20/50\n",
      "266/266 [==============================] - 1s 2ms/step - loss: 0.0126\n",
      "Epoch 21/50\n",
      "266/266 [==============================] - 1s 2ms/step - loss: 0.0132\n",
      "Epoch 22/50\n",
      "266/266 [==============================] - 1s 2ms/step - loss: 0.0119\n",
      "Epoch 23/50\n",
      "266/266 [==============================] - 1s 3ms/step - loss: 0.0105\n",
      "Epoch 24/50\n",
      "266/266 [==============================] - 0s 2ms/step - loss: 0.0097\n",
      "Epoch 25/50\n",
      "266/266 [==============================] - 1s 2ms/step - loss: 0.0100\n",
      "Epoch 26/50\n",
      "266/266 [==============================] - 0s 2ms/step - loss: 0.0122\n",
      "Epoch 27/50\n",
      "266/266 [==============================] - 0s 2ms/step - loss: 0.0117\n"
     ]
    }
   ],
   "source": [
    "callback = tf.keras.callbacks.EarlyStopping(monitor='loss', patience=3)\n",
    "\n",
    "history = model.fit(x=train_x,y=train_y,batch_size=5,shuffle=True,epochs=50,callbacks=[callback])"
   ],
   "metadata": {
    "collapsed": false
   }
  },
  {
   "cell_type": "code",
   "execution_count": 6,
   "outputs": [
    {
     "data": {
      "text/plain": "<Figure size 640x480 with 1 Axes>",
      "image/png": "[encoded data removed]"
     },
     "metadata": {},
     "output_type": "display_data"
    }
   ],
   "source": [
    "plt.plot(history.epoch, history.history[\"loss\"], 'g', label='Training loss')\n",
    "plt.title('Training loss')\n",
    "plt.xlabel('Epochs')\n",
    "plt.ylabel('Loss')\n",
    "plt.legend()\n",
    "plt.show()\n"
   ],
   "metadata": {
    "collapsed": false
   }
  },
  {
   "cell_type": "code",
   "execution_count": 7,
   "outputs": [],
   "source": [
    "model.save(\"models/v1.h5\")"
   ],
   "metadata": {
    "collapsed": false
   }
  },
  {
   "cell_type": "code",
   "execution_count": 8,
   "outputs": [
    {
     "name": "stdout",
     "output_type": "stream",
     "text": [
      "14/14 [==============================] - 0s 2ms/step\n",
      "Accuracy = 0.9932279909706546\n",
      "Normalized confusion matrix\n",
      "[[0.99375    0.00625    0.        ]\n",
      " [0.01459854 0.98540146 0.        ]\n",
      " [0.         0.         1.        ]]\n"
     ]
    },
    {
     "data": {
      "text/plain": "<Figure size 640x480 with 2 Axes>",
      "image/png": "[encoded data removed]"
     },
     "metadata": {},
     "output_type": "display_data"
    }
   ],
   "source": [
    "from sklearn import metrics\n",
    "\n",
    "prediction=model.predict(test_x)\n",
    "actual=[]\n",
    "predicted=[]\n",
    "c=0\n",
    "for i,p in enumerate(prediction):\n",
    "    predicted.append(np.argmax(p))\n",
    "    actual.append(np.argmax(test_y[i]))\n",
    "\n",
    "    if(predicted[i]==actual[i]):\n",
    "        c+=1\n",
    "print(f'Accuracy = {c/len(actual)}')\n",
    "\n",
    "\n",
    "# print(actual,predicted)\n",
    "class_names = np.array(['rock','paper','scissors'])\n",
    "\n",
    "plot_confusion_matrix(actual, predicted, classes=class_names, normalize=True,\n",
    "                      title='Normalized confusion matrix')\n",
    "\n",
    "plt.show()\n"
   ],
   "metadata": {
    "collapsed": false
   }
  },
  {
   "cell_type": "code",
   "execution_count": 6,
   "outputs": [
    {
     "name": "stderr",
     "output_type": "stream",
     "text": [
      "WARNING:absl:Found untraced functions such as _update_step_xla while saving (showing 1 of 1). These functions will not be directly callable after loading.\n"
     ]
    },
    {
     "name": "stdout",
     "output_type": "stream",
     "text": [
      "INFO:tensorflow:Assets written to: /tmp/tmpl6uo5sto/assets\n"
     ]
    },
    {
     "name": "stderr",
     "output_type": "stream",
     "text": [
      "INFO:tensorflow:Assets written to: /tmp/tmpl6uo5sto/assets\n",
      "2023-02-17 19:20:08.803591: W tensorflow/compiler/mlir/lite/python/tf_tfl_flatbuffer_helpers.cc:362] Ignored output_format.\n",
      "2023-02-17 19:20:08.803696: W tensorflow/compiler/mlir/lite/python/tf_tfl_flatbuffer_helpers.cc:365] Ignored drop_control_dependency.\n",
      "2023-02-17 19:20:08.805675: I tensorflow/cc/saved_model/reader.cc:45] Reading SavedModel from: /tmp/tmpl6uo5sto\n",
      "2023-02-17 19:20:08.807578: I tensorflow/cc/saved_model/reader.cc:89] Reading meta graph with tags { serve }\n",
      "2023-02-17 19:20:08.807639: I tensorflow/cc/saved_model/reader.cc:130] Reading SavedModel debug info (if present) from: /tmp/tmpl6uo5sto\n",
      "2023-02-17 19:20:08.816574: I tensorflow/cc/saved_model/loader.cc:229] Restoring SavedModel bundle.\n",
      "2023-02-17 19:20:08.898602: I tensorflow/cc/saved_model/loader.cc:213] Running initialization op on SavedModel bundle at path: /tmp/tmpl6uo5sto\n",
      "2023-02-17 19:20:08.920021: I tensorflow/cc/saved_model/loader.cc:305] SavedModel load for tags { serve }; Status: success: OK. Took 114360 microseconds.\n"
     ]
    }
   ],
   "source": [
    "model= tf.keras.models.load_model(\"models/v1.h5\")\n",
    "converter = tf.lite.TFLiteConverter.from_keras_model(model)\n",
    "tflite_model = converter.convert()\n",
    "\n",
    "# Save the model.\n",
    "with open('models/v1.tflite', 'wb') as f:\n",
    "  f.write(tflite_model)"
   ],
   "metadata": {
    "collapsed": false
   }
  },
  {
   "cell_type": "code",
   "execution_count": null,
   "outputs": [],
   "source": [],
   "metadata": {
    "collapsed": false
   }
  }
 ],
 "metadata": {
  "kernelspec": {
   "display_name": "Python 3",
   "language": "python",
   "name": "python3"
  },
  "language_info": {
   "codemirror_mode": {
    "name": "ipython",
    "version": 2
   },
   "file_extension": ".py",
   "mimetype": "text/x-python",
   "name": "python",
   "nbconvert_exporter": "python",
   "pygments_lexer": "ipython2",
   "version": "2.7.6"
  }
 },
 "nbformat": 4,
 "nbformat_minor": 0
}
